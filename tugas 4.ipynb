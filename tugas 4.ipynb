{
 "cells": [
  {
   "cell_type": "code",
   "execution_count": 1,
   "id": "e3dcecab",
   "metadata": {},
   "outputs": [],
   "source": [
    "import timeit\n",
    "import time"
   ]
  },
  {
   "cell_type": "code",
   "execution_count": 2,
   "id": "1493a2e5",
   "metadata": {},
   "outputs": [],
   "source": [
    "start = time.time()"
   ]
  },
  {
   "cell_type": "code",
   "execution_count": 3,
   "id": "3c9d5846",
   "metadata": {},
   "outputs": [],
   "source": [
    "import pandas as pd\n",
    "import numpy as np\n",
    "import matplotlib.pyplot as plt\n",
    "import seaborn as sns\n",
    "sns.set()\n",
    "%matplotlib inline\n",
    "from sklearn.preprocessing import StandardScaler\n",
    "from sklearn.cluster import KMeans\n",
    "from sklearn.decomposition import PCA"
   ]
  },
  {
   "cell_type": "code",
   "execution_count": 4,
   "id": "6b42ffa0",
   "metadata": {},
   "outputs": [],
   "source": [
    "from sklearn.datasets import load_breast_cancer"
   ]
  },
  {
   "cell_type": "code",
   "execution_count": 5,
   "id": "7da14a4e",
   "metadata": {},
   "outputs": [],
   "source": [
    "bc = load_breast_cancer()\n",
    "X, y = load_breast_cancer(return_X_y=True)"
   ]
  },
  {
   "cell_type": "code",
   "execution_count": 6,
   "id": "60b3f4a1",
   "metadata": {},
   "outputs": [
    {
     "name": "stdout",
     "output_type": "stream",
     "text": [
      "<class 'pandas.core.frame.DataFrame'>\n",
      "RangeIndex: 569 entries, 0 to 568\n",
      "Data columns (total 30 columns):\n",
      " #   Column                   Non-Null Count  Dtype  \n",
      "---  ------                   --------------  -----  \n",
      " 0   mean radius              569 non-null    float64\n",
      " 1   mean texture             569 non-null    float64\n",
      " 2   mean perimeter           569 non-null    float64\n",
      " 3   mean area                569 non-null    float64\n",
      " 4   mean smoothness          569 non-null    float64\n",
      " 5   mean compactness         569 non-null    float64\n",
      " 6   mean concavity           569 non-null    float64\n",
      " 7   mean concave points      569 non-null    float64\n",
      " 8   mean symmetry            569 non-null    float64\n",
      " 9   mean fractal dimension   569 non-null    float64\n",
      " 10  radius error             569 non-null    float64\n",
      " 11  texture error            569 non-null    float64\n",
      " 12  perimeter error          569 non-null    float64\n",
      " 13  area error               569 non-null    float64\n",
      " 14  smoothness error         569 non-null    float64\n",
      " 15  compactness error        569 non-null    float64\n",
      " 16  concavity error          569 non-null    float64\n",
      " 17  concave points error     569 non-null    float64\n",
      " 18  symmetry error           569 non-null    float64\n",
      " 19  fractal dimension error  569 non-null    float64\n",
      " 20  worst radius             569 non-null    float64\n",
      " 21  worst texture            569 non-null    float64\n",
      " 22  worst perimeter          569 non-null    float64\n",
      " 23  worst area               569 non-null    float64\n",
      " 24  worst smoothness         569 non-null    float64\n",
      " 25  worst compactness        569 non-null    float64\n",
      " 26  worst concavity          569 non-null    float64\n",
      " 27  worst concave points     569 non-null    float64\n",
      " 28  worst symmetry           569 non-null    float64\n",
      " 29  worst fractal dimension  569 non-null    float64\n",
      "dtypes: float64(30)\n",
      "memory usage: 133.5 KB\n"
     ]
    }
   ],
   "source": [
    "breast = load_breast_cancer(as_frame =True)\n",
    "df1 = breast.data\n",
    "df1.info()"
   ]
  },
  {
   "cell_type": "code",
   "execution_count": 7,
   "id": "52bdff0a",
   "metadata": {},
   "outputs": [
    {
     "data": {
      "text/plain": [
       "StandardScaler()"
      ]
     },
     "execution_count": 7,
     "metadata": {},
     "output_type": "execute_result"
    }
   ],
   "source": [
    "scaler = StandardScaler()\n",
    "scaler"
   ]
  },
  {
   "cell_type": "code",
   "execution_count": 8,
   "id": "a879f8c4",
   "metadata": {},
   "outputs": [
    {
     "data": {
      "text/plain": [
       "array([[ 1.09706398, -2.07333501,  1.26993369, ...,  2.29607613,\n",
       "         2.75062224,  1.93701461],\n",
       "       [ 1.82982061, -0.35363241,  1.68595471, ...,  1.0870843 ,\n",
       "        -0.24388967,  0.28118999],\n",
       "       [ 1.57988811,  0.45618695,  1.56650313, ...,  1.95500035,\n",
       "         1.152255  ,  0.20139121],\n",
       "       ...,\n",
       "       [ 0.70228425,  2.0455738 ,  0.67267578, ...,  0.41406869,\n",
       "        -1.10454895, -0.31840916],\n",
       "       [ 1.83834103,  2.33645719,  1.98252415, ...,  2.28998549,\n",
       "         1.91908301,  2.21963528],\n",
       "       [-1.80840125,  1.22179204, -1.81438851, ..., -1.74506282,\n",
       "        -0.04813821, -0.75120669]])"
      ]
     },
     "execution_count": 8,
     "metadata": {},
     "output_type": "execute_result"
    }
   ],
   "source": [
    "df1_std = scaler.fit_transform(df1)\n",
    "df1_std"
   ]
  },
  {
   "cell_type": "code",
   "execution_count": 9,
   "id": "a0fb0fc0",
   "metadata": {},
   "outputs": [
    {
     "data": {
      "text/plain": [
       "PCA()"
      ]
     },
     "execution_count": 9,
     "metadata": {},
     "output_type": "execute_result"
    }
   ],
   "source": [
    "pca =PCA()\n",
    "pca"
   ]
  },
  {
   "cell_type": "code",
   "execution_count": 10,
   "id": "3a4b8b3c",
   "metadata": {},
   "outputs": [
    {
     "data": {
      "text/plain": [
       "PCA()"
      ]
     },
     "execution_count": 10,
     "metadata": {},
     "output_type": "execute_result"
    }
   ],
   "source": [
    "pca.fit(df1_std)"
   ]
  },
  {
   "cell_type": "code",
   "execution_count": 11,
   "id": "4f904dbf",
   "metadata": {},
   "outputs": [
    {
     "data": {
      "text/plain": [
       "array([4.42720256e-01, 1.89711820e-01, 9.39316326e-02, 6.60213492e-02,\n",
       "       5.49576849e-02, 4.02452204e-02, 2.25073371e-02, 1.58872380e-02,\n",
       "       1.38964937e-02, 1.16897819e-02, 9.79718988e-03, 8.70537901e-03,\n",
       "       8.04524987e-03, 5.23365745e-03, 3.13783217e-03, 2.66209337e-03,\n",
       "       1.97996793e-03, 1.75395945e-03, 1.64925306e-03, 1.03864675e-03,\n",
       "       9.99096464e-04, 9.14646751e-04, 8.11361259e-04, 6.01833567e-04,\n",
       "       5.16042379e-04, 2.72587995e-04, 2.30015463e-04, 5.29779290e-05,\n",
       "       2.49601032e-05, 4.43482743e-06])"
      ]
     },
     "execution_count": 11,
     "metadata": {},
     "output_type": "execute_result"
    }
   ],
   "source": [
    "pca.explained_variance_ratio_"
   ]
  },
  {
   "cell_type": "code",
   "execution_count": 12,
   "id": "de5a9331",
   "metadata": {},
   "outputs": [
    {
     "data": {
      "image/png": "[encoded data removed]",
      "text/plain": [
       "<Figure size 720x576 with 1 Axes>"
      ]
     },
     "metadata": {
      "needs_background": "light"
     },
     "output_type": "display_data"
    }
   ],
   "source": [
    "plt.figure(figsize=(10,8))\n",
    "plt.plot(np.cumsum(pca.explained_variance_ratio_))\n",
    "plt.xlabel('number of components')\n",
    "plt.ylabel('cumulative explained variance');"
   ]
  },
  {
   "cell_type": "code",
   "execution_count": 13,
   "id": "56454d7f",
   "metadata": {},
   "outputs": [],
   "source": [
    "pca =PCA(n_components = 4)"
   ]
  },
  {
   "cell_type": "code",
   "execution_count": 14,
   "id": "51b0a956",
   "metadata": {},
   "outputs": [
    {
     "data": {
      "text/plain": [
       "PCA(n_components=4)"
      ]
     },
     "execution_count": 14,
     "metadata": {},
     "output_type": "execute_result"
    }
   ],
   "source": [
    "pca.fit(df1)"
   ]
  },
  {
   "cell_type": "code",
   "execution_count": 15,
   "id": "0cb7773d",
   "metadata": {},
   "outputs": [
    {
     "data": {
      "text/plain": [
       "array([[1160.1425737 , -293.91754364,   48.57839763,   -8.71197531],\n",
       "       [1269.12244319,   15.63018184,  -35.39453423,   17.86128323],\n",
       "       [ 995.79388896,   39.15674324,   -1.70975298,    4.1993401 ],\n",
       "       ...,\n",
       "       [ 314.50175618,   47.55352518,  -10.44240718,   -9.77188104],\n",
       "       [1124.85811531,   34.12922497,  -19.74208742,  -23.66088144],\n",
       "       [-771.52762188,  -88.64310636,   23.88903189,    2.54724855]])"
      ]
     },
     "execution_count": 15,
     "metadata": {},
     "output_type": "execute_result"
    }
   ],
   "source": [
    "pca.transform(df1)"
   ]
  },
  {
   "cell_type": "code",
   "execution_count": 16,
   "id": "ffa268f6",
   "metadata": {},
   "outputs": [],
   "source": [
    "scores_pca = pca.transform(df1)"
   ]
  },
  {
   "cell_type": "code",
   "execution_count": 17,
   "id": "8e942cc4",
   "metadata": {},
   "outputs": [
    {
     "name": "stderr",
     "output_type": "stream",
     "text": [
      "C:\\Users\\Lenovo\\anaconda3\\lib\\site-packages\\sklearn\\cluster\\_kmeans.py:881: UserWarning: KMeans is known to have a memory leak on Windows with MKL, when there are less chunks than available threads. You can avoid it by setting the environment variable OMP_NUM_THREADS=3.\n",
      "  warnings.warn(\n"
     ]
    },
    {
     "data": {
      "text/plain": [
       "<function matplotlib.pyplot.show(close=None, block=None)>"
      ]
     },
     "execution_count": 17,
     "metadata": {},
     "output_type": "execute_result"
    },
    {
     "data": {
      "image/png": "[encoded data removed]",
      "text/plain": [
       "<Figure size 432x288 with 1 Axes>"
      ]
     },
     "metadata": {
      "needs_background": "light"
     },
     "output_type": "display_data"
    }
   ],
   "source": [
    "wcss=[]\n",
    "K = range (1,11)\n",
    "for k in K:\n",
    "    km = KMeans (n_clusters = k, init ='random',n_init =10,max_iter =300, tol =1e-04, random_state=2021)\n",
    "    km =km.fit(scores_pca)\n",
    "    wcss.append(km.inertia_)\n",
    "plt.plot(K,wcss, marker ='o')\n",
    "plt.xlabel(\"Jumlah Kluster\")\n",
    "plt.ylabel(\"sum_of_squared_distance\")\n",
    "plt.title(\"Elbow Metode untuk optimasi jumlah kluster\")\n",
    "plt.show"
   ]
  },
  {
   "cell_type": "code",
   "execution_count": 18,
   "id": "7ed8da22",
   "metadata": {},
   "outputs": [
    {
     "data": {
      "text/plain": [
       "KMeans(n_clusters=2, random_state=42)"
      ]
     },
     "execution_count": 18,
     "metadata": {},
     "output_type": "execute_result"
    }
   ],
   "source": [
    "kmeans_pca = KMeans(n_clusters =2, init =\"k-means++\", random_state=42)\n",
    "kmeans_pca"
   ]
  },
  {
   "cell_type": "code",
   "execution_count": 19,
   "id": "f50467e7",
   "metadata": {},
   "outputs": [
    {
     "data": {
      "text/plain": [
       "KMeans(n_clusters=2, random_state=42)"
      ]
     },
     "execution_count": 19,
     "metadata": {},
     "output_type": "execute_result"
    }
   ],
   "source": [
    "kmeans_pca.fit(scores_pca)"
   ]
  },
  {
   "cell_type": "code",
   "execution_count": 20,
   "id": "4a0ad91b",
   "metadata": {},
   "outputs": [],
   "source": [
    "df_pca_kmeans = pd.concat([df1.reset_index(drop=True),pd.DataFrame(scores_pca)],axis =1)"
   ]
  },
  {
   "cell_type": "code",
   "execution_count": 21,
   "id": "7fb5b197",
   "metadata": {},
   "outputs": [],
   "source": [
    "df_pca_kmeans.columns.values[-4:]= [\"Component 1\",\"Component 2\",\"Component 3\",\"Component 4\"]\n",
    "df_pca_kmeans[\"Kmeans PCA\"] =kmeans_pca.labels_"
   ]
  },
  {
   "cell_type": "code",
   "execution_count": 22,
   "id": "3b90962d",
   "metadata": {},
   "outputs": [
    {
     "data": {
      "text/html": [
       "<div>\n",
       "<style scoped>\n",
       "    .dataframe tbody tr th:only-of-type {\n",
       "        vertical-align: middle;\n",
       "    }\n",
       "\n",
       "    .dataframe tbody tr th {\n",
       "        vertical-align: top;\n",
       "    }\n",
       "\n",
       "    .dataframe thead th {\n",
       "        text-align: right;\n",
       "    }\n",
       "</style>\n",
       "<table border=\"1\" class=\"dataframe\">\n",
       "  <thead>\n",
       "    <tr style=\"text-align: right;\">\n",
       "      <th></th>\n",
       "      <th>mean radius</th>\n",
       "      <th>mean texture</th>\n",
       "      <th>mean perimeter</th>\n",
       "      <th>mean area</th>\n",
       "      <th>mean smoothness</th>\n",
       "      <th>mean compactness</th>\n",
       "      <th>mean concavity</th>\n",
       "      <th>mean concave points</th>\n",
       "      <th>mean symmetry</th>\n",
       "      <th>mean fractal dimension</th>\n",
       "      <th>...</th>\n",
       "      <th>worst compactness</th>\n",
       "      <th>worst concavity</th>\n",
       "      <th>worst concave points</th>\n",
       "      <th>worst symmetry</th>\n",
       "      <th>worst fractal dimension</th>\n",
       "      <th>Component 1</th>\n",
       "      <th>Component 2</th>\n",
       "      <th>Component 3</th>\n",
       "      <th>Component 4</th>\n",
       "      <th>Kmeans PCA</th>\n",
       "    </tr>\n",
       "  </thead>\n",
       "  <tbody>\n",
       "    <tr>\n",
       "      <th>0</th>\n",
       "      <td>17.99</td>\n",
       "      <td>10.38</td>\n",
       "      <td>122.80</td>\n",
       "      <td>1001.0</td>\n",
       "      <td>0.11840</td>\n",
       "      <td>0.27760</td>\n",
       "      <td>0.3001</td>\n",
       "      <td>0.14710</td>\n",
       "      <td>0.2419</td>\n",
       "      <td>0.07871</td>\n",
       "      <td>...</td>\n",
       "      <td>0.6656</td>\n",
       "      <td>0.7119</td>\n",
       "      <td>0.2654</td>\n",
       "      <td>0.4601</td>\n",
       "      <td>0.11890</td>\n",
       "      <td>1160.142574</td>\n",
       "      <td>-293.917544</td>\n",
       "      <td>48.578398</td>\n",
       "      <td>-8.711975</td>\n",
       "      <td>1</td>\n",
       "    </tr>\n",
       "    <tr>\n",
       "      <th>1</th>\n",
       "      <td>20.57</td>\n",
       "      <td>17.77</td>\n",
       "      <td>132.90</td>\n",
       "      <td>1326.0</td>\n",
       "      <td>0.08474</td>\n",
       "      <td>0.07864</td>\n",
       "      <td>0.0869</td>\n",
       "      <td>0.07017</td>\n",
       "      <td>0.1812</td>\n",
       "      <td>0.05667</td>\n",
       "      <td>...</td>\n",
       "      <td>0.1866</td>\n",
       "      <td>0.2416</td>\n",
       "      <td>0.1860</td>\n",
       "      <td>0.2750</td>\n",
       "      <td>0.08902</td>\n",
       "      <td>1269.122443</td>\n",
       "      <td>15.630182</td>\n",
       "      <td>-35.394534</td>\n",
       "      <td>17.861283</td>\n",
       "      <td>1</td>\n",
       "    </tr>\n",
       "    <tr>\n",
       "      <th>2</th>\n",
       "      <td>19.69</td>\n",
       "      <td>21.25</td>\n",
       "      <td>130.00</td>\n",
       "      <td>1203.0</td>\n",
       "      <td>0.10960</td>\n",
       "      <td>0.15990</td>\n",
       "      <td>0.1974</td>\n",
       "      <td>0.12790</td>\n",
       "      <td>0.2069</td>\n",
       "      <td>0.05999</td>\n",
       "      <td>...</td>\n",
       "      <td>0.4245</td>\n",
       "      <td>0.4504</td>\n",
       "      <td>0.2430</td>\n",
       "      <td>0.3613</td>\n",
       "      <td>0.08758</td>\n",
       "      <td>995.793889</td>\n",
       "      <td>39.156743</td>\n",
       "      <td>-1.709753</td>\n",
       "      <td>4.199340</td>\n",
       "      <td>1</td>\n",
       "    </tr>\n",
       "    <tr>\n",
       "      <th>3</th>\n",
       "      <td>11.42</td>\n",
       "      <td>20.38</td>\n",
       "      <td>77.58</td>\n",
       "      <td>386.1</td>\n",
       "      <td>0.14250</td>\n",
       "      <td>0.28390</td>\n",
       "      <td>0.2414</td>\n",
       "      <td>0.10520</td>\n",
       "      <td>0.2597</td>\n",
       "      <td>0.09744</td>\n",
       "      <td>...</td>\n",
       "      <td>0.8663</td>\n",
       "      <td>0.6869</td>\n",
       "      <td>0.2575</td>\n",
       "      <td>0.6638</td>\n",
       "      <td>0.17300</td>\n",
       "      <td>-407.180803</td>\n",
       "      <td>-67.380320</td>\n",
       "      <td>8.672848</td>\n",
       "      <td>-11.759867</td>\n",
       "      <td>0</td>\n",
       "    </tr>\n",
       "    <tr>\n",
       "      <th>4</th>\n",
       "      <td>20.29</td>\n",
       "      <td>14.34</td>\n",
       "      <td>135.10</td>\n",
       "      <td>1297.0</td>\n",
       "      <td>0.10030</td>\n",
       "      <td>0.13280</td>\n",
       "      <td>0.1980</td>\n",
       "      <td>0.10430</td>\n",
       "      <td>0.1809</td>\n",
       "      <td>0.05883</td>\n",
       "      <td>...</td>\n",
       "      <td>0.2050</td>\n",
       "      <td>0.4000</td>\n",
       "      <td>0.1625</td>\n",
       "      <td>0.2364</td>\n",
       "      <td>0.07678</td>\n",
       "      <td>930.341180</td>\n",
       "      <td>189.340742</td>\n",
       "      <td>1.374801</td>\n",
       "      <td>8.499183</td>\n",
       "      <td>1</td>\n",
       "    </tr>\n",
       "  </tbody>\n",
       "</table>\n",
       "<p>5 rows × 35 columns</p>\n",
       "</div>"
      ],
      "text/plain": [
       "   mean radius  mean texture  mean perimeter  mean area  mean smoothness  \\\n",
       "0        17.99         10.38          122.80     1001.0          0.11840   \n",
       "1        20.57         17.77          132.90     1326.0          0.08474   \n",
       "2        19.69         21.25          130.00     1203.0          0.10960   \n",
       "3        11.42         20.38           77.58      386.1          0.14250   \n",
       "4        20.29         14.34          135.10     1297.0          0.10030   \n",
       "\n",
       "   mean compactness  mean concavity  mean concave points  mean symmetry  \\\n",
       "0           0.27760          0.3001              0.14710         0.2419   \n",
       "1           0.07864          0.0869              0.07017         0.1812   \n",
       "2           0.15990          0.1974              0.12790         0.2069   \n",
       "3           0.28390          0.2414              0.10520         0.2597   \n",
       "4           0.13280          0.1980              0.10430         0.1809   \n",
       "\n",
       "   mean fractal dimension  ...  worst compactness  worst concavity  \\\n",
       "0                 0.07871  ...             0.6656           0.7119   \n",
       "1                 0.05667  ...             0.1866           0.2416   \n",
       "2                 0.05999  ...             0.4245           0.4504   \n",
       "3                 0.09744  ...             0.8663           0.6869   \n",
       "4                 0.05883  ...             0.2050           0.4000   \n",
       "\n",
       "   worst concave points  worst symmetry  worst fractal dimension  Component 1  \\\n",
       "0                0.2654          0.4601                  0.11890  1160.142574   \n",
       "1                0.1860          0.2750                  0.08902  1269.122443   \n",
       "2                0.2430          0.3613                  0.08758   995.793889   \n",
       "3                0.2575          0.6638                  0.17300  -407.180803   \n",
       "4                0.1625          0.2364                  0.07678   930.341180   \n",
       "\n",
       "   Component 2  Component 3  Component 4  Kmeans PCA  \n",
       "0  -293.917544    48.578398    -8.711975           1  \n",
       "1    15.630182   -35.394534    17.861283           1  \n",
       "2    39.156743    -1.709753     4.199340           1  \n",
       "3   -67.380320     8.672848   -11.759867           0  \n",
       "4   189.340742     1.374801     8.499183           1  \n",
       "\n",
       "[5 rows x 35 columns]"
      ]
     },
     "execution_count": 22,
     "metadata": {},
     "output_type": "execute_result"
    }
   ],
   "source": [
    "df_pca_kmeans.head()"
   ]
  },
  {
   "cell_type": "code",
   "execution_count": 23,
   "id": "dd95e1e8",
   "metadata": {},
   "outputs": [
    {
     "data": {
      "text/plain": [
       "0    438\n",
       "1    131\n",
       "Name: Kmeans PCA, dtype: int64"
      ]
     },
     "execution_count": 23,
     "metadata": {},
     "output_type": "execute_result"
    }
   ],
   "source": [
    "df_pca_kmeans['Kmeans PCA'].value_counts()"
   ]
  },
  {
   "cell_type": "code",
   "execution_count": 24,
   "id": "cce50eff",
   "metadata": {},
   "outputs": [],
   "source": [
    "df_pca_kmeans[\"Segment\"] = df_pca_kmeans[\"Kmeans PCA\"].map({0:\"Balignant\",1:\"Beningn\"})"
   ]
  },
  {
   "cell_type": "code",
   "execution_count": 25,
   "id": "344a00ea",
   "metadata": {},
   "outputs": [
    {
     "name": "stderr",
     "output_type": "stream",
     "text": [
      "C:\\Users\\Lenovo\\anaconda3\\lib\\site-packages\\seaborn\\_decorators.py:36: FutureWarning: Pass the following variables as keyword args: x, y. From version 0.12, the only valid positional argument will be `data`, and passing other arguments without an explicit keyword will result in an error or misinterpretation.\n",
      "  warnings.warn(\n"
     ]
    },
    {
     "data": {
      "image/png": "[encoded data removed]",
      "text/plain": [
       "<Figure size 720x576 with 1 Axes>"
      ]
     },
     "metadata": {
      "needs_background": "light"
     },
     "output_type": "display_data"
    }
   ],
   "source": [
    "x_axis = df_pca_kmeans[\"Component 2\"]\n",
    "y_axis = df_pca_kmeans[\"Component 1\"]\n",
    "plt.figure(figsize = (10,8))\n",
    "sns.scatterplot(x_axis,y_axis,hue = df_pca_kmeans[\"Segment\"])\n",
    "plt.title(\"clusters by PCA Components\")\n",
    "plt.show()\n"
   ]
  },
  {
   "cell_type": "code",
   "execution_count": 26,
   "id": "d670cda7",
   "metadata": {},
   "outputs": [
    {
     "data": {
      "text/plain": [
       "0.49142453622455523"
      ]
     },
     "execution_count": 26,
     "metadata": {},
     "output_type": "execute_result"
    }
   ],
   "source": [
    "from sklearn import cluster,metrics\n",
    "from sklearn.metrics import adjusted_rand_score\n",
    "metrics.adjusted_rand_score(y,kmeans_pca.labels_)"
   ]
  },
  {
   "cell_type": "code",
   "execution_count": 27,
   "id": "0dfb763d",
   "metadata": {},
   "outputs": [],
   "source": [
    "#def my_function():\n",
    "    #for x in range(1000):\n",
    "        \n",
    "        #pass"
   ]
  },
  {
   "cell_type": "code",
   "execution_count": 28,
   "id": "d2ad2477",
   "metadata": {},
   "outputs": [],
   "source": [
    "#print(timeit.timeit(stmt=\"my_function()\",setup=\"from_main_import my_function\",number=1))"
   ]
  },
  {
   "cell_type": "code",
   "execution_count": 29,
   "id": "9ea204f9",
   "metadata": {},
   "outputs": [],
   "source": [
    "end = time.time()"
   ]
  },
  {
   "cell_type": "code",
   "execution_count": 30,
   "id": "7dd11d4b",
   "metadata": {},
   "outputs": [],
   "source": [
    "#print(f\"Runtime of the program is {end - start}\")"
   ]
  },
  {
   "cell_type": "code",
   "execution_count": 31,
   "id": "41387fa9",
   "metadata": {},
   "outputs": [
    {
     "name": "stdout",
     "output_type": "stream",
     "text": [
      "Runtime of the program is 10.98045802116394\n"
     ]
    }
   ],
   "source": [
    "print(f\"Runtime of the program is {end - start}\")"
   ]
  },
  {
   "cell_type": "code",
   "execution_count": null,
   "id": "a2a61fd9",
   "metadata": {},
   "outputs": [],
   "source": []
  }
 ],
 "metadata": {
  "kernelspec": {
   "display_name": "Python 3",
   "language": "python",
   "name": "python3"
  },
  "language_info": {
   "codemirror_mode": {
    "name": "ipython",
    "version": 3
   },
   "file_extension": ".py",
   "mimetype": "text/x-python",
   "name": "python",
   "nbconvert_exporter": "python",
   "pygments_lexer": "ipython3",
   "version": "3.8.8"
  }
 },
 "nbformat": 4,
 "nbformat_minor": 5
}
